{
    "cells": [
        {
            "cell_type": "markdown",
            "metadata": {},
            "source": [
                "# Determinant Computation Algorithm\n",
                "\n",
                "Write a function that accepts a matrix in form of numpy array and calculates its determinant in the most efficient way (the algorithm will be tested on large matrices).\n",
                "\n",
                "Use vectorized `numpy` operations.\n",
                "\n",
                "You are allowed to use `numpy.linalg`"
            ]
        },
        {
            "cell_type": "code",
            "execution_count": 10,
            "metadata": {},
            "outputs": [],
            "source": [
                "import numpy as np\n",
                "import json_tricks\n",
                "import scipy"
            ]
        },
        {
            "cell_type": "code",
            "execution_count": 13,
            "metadata": {},
            "outputs": [],
            "source": [
                "def determinant_fast(A):\n",
                "    lu, piv = scipy.linalg.lu_factor(A)\n",
                "    det = np.prod(np.diag(lu)) * (-1.0) ** (np.sum(piv != np.arange(A.shape[0])))\n",
                "    det = np.array(det, dtype=np.float64)\n",
                "    pivots = piv.astype(np.float64)\n",
                "    return det, pivots"
            ]
        },
        {
            "cell_type": "code",
            "execution_count": 12,
            "metadata": {},
            "outputs": [
                {
                    "name": "stderr",
                    "output_type": "stream",
                    "text": [
                        "/tmp/ipykernel_31486/2479795295.py:2: LinAlgWarning: Diagonal number 2 is exactly zero. Singular matrix.\n",
                        "  lu, piv = scipy.linalg.lu_factor(A)\n",
                        "/tmp/ipykernel_31486/2479795295.py:2: LinAlgWarning: Diagonal number 1 is exactly zero. Singular matrix.\n",
                        "  lu, piv = scipy.linalg.lu_factor(A)\n",
                        "/tmp/ipykernel_31486/2479795295.py:2: LinAlgWarning: Diagonal number 11 is exactly zero. Singular matrix.\n",
                        "  lu, piv = scipy.linalg.lu_factor(A)\n",
                        "/tmp/ipykernel_31486/2479795295.py:2: LinAlgWarning: Diagonal number 7 is exactly zero. Singular matrix.\n",
                        "  lu, piv = scipy.linalg.lu_factor(A)\n",
                        "/tmp/ipykernel_31486/2479795295.py:2: LinAlgWarning: Diagonal number 8 is exactly zero. Singular matrix.\n",
                        "  lu, piv = scipy.linalg.lu_factor(A)\n",
                        "/tmp/ipykernel_31486/2479795295.py:2: LinAlgWarning: Diagonal number 9 is exactly zero. Singular matrix.\n",
                        "  lu, piv = scipy.linalg.lu_factor(A)\n",
                        "/tmp/ipykernel_31486/2479795295.py:2: LinAlgWarning: Diagonal number 4 is exactly zero. Singular matrix.\n",
                        "  lu, piv = scipy.linalg.lu_factor(A)\n",
                        "/tmp/ipykernel_31486/2479795295.py:2: LinAlgWarning: Diagonal number 3 is exactly zero. Singular matrix.\n",
                        "  lu, piv = scipy.linalg.lu_factor(A)\n",
                        "/tmp/ipykernel_31486/2479795295.py:2: LinAlgWarning: Diagonal number 10 is exactly zero. Singular matrix.\n",
                        "  lu, piv = scipy.linalg.lu_factor(A)\n",
                        "/tmp/ipykernel_31486/2479795295.py:2: LinAlgWarning: Diagonal number 6 is exactly zero. Singular matrix.\n",
                        "  lu, piv = scipy.linalg.lu_factor(A)\n",
                        "/tmp/ipykernel_31486/2479795295.py:2: LinAlgWarning: Diagonal number 5 is exactly zero. Singular matrix.\n",
                        "  lu, piv = scipy.linalg.lu_factor(A)\n"
                    ]
                },
                {
                    "data": {
                        "text/plain": [
                            "'{\"results\": [[{\"__ndarray__\": -0.0, \"dtype\": \"float64\", \"shape\": []}, {\"__ndarray__\": [0, 1], \"dtype\": \"int64\", \"shape\": [2]}], [{\"__ndarray__\": 2.0, \"dtype\": \"float64\", \"shape\": []}, {\"__ndarray__\": [2, 3, 3, 4, 10, 7, 9, 7, 8, 9, 10], \"dtype\": \"int64\", \"shape\": [11]}], [{\"__ndarray__\": -373.0000000000003, \"dtype\": \"float64\", \"shape\": []}, {\"__ndarray__\": [2, 1, 8, 9, 10, 7, 6, 7, 9, 10, 12, 13, 15, 16, 14, 15, 16], \"dtype\": \"int64\", \"shape\": [17]}], [{\"__ndarray__\": -0.0, \"dtype\": \"float64\", \"shape\": []}, {\"__ndarray__\": [0, 1], \"dtype\": \"int64\", \"shape\": [2]}], [{\"__ndarray__\": -95.00000000000001, \"dtype\": \"float64\", \"shape\": []}, {\"__ndarray__\": [1, 2, 6, 7, 6, 9, 7, 7, 10, 9, 13, 13, 13, 13], \"dtype\": \"int64\", \"shape\": [14]}], [{\"__ndarray__\": 7.999999999999992, \"dtype\": \"float64\", \"shape\": []}, {\"__ndarray__\": [2, 3, 6, 3, 4, 9, 6, 13, 11, 10, 11, 12, 13, 13], \"dtype\": \"int64\", \"shape\": [14]}], [{\"__ndarray__\": 199.0, \"dtype\": \"float64\", \"shape\": []}, {\"__ndarray__\": [1, 3, 3, 3, 5, 11, 6, 7, 9, 9, 13, 11, 14, 14, 17, 16, 17, 17], \"dtype\": \"int64\", \"shape\": [18]}], [{\"__ndarray__\": 225.00000000000014, \"dtype\": \"float64\", \"shape\": []}, {\"__ndarray__\": [0, 5, 10, 5, 11, 7, 10, 13, 9, 12, 14, 11, 16, 16, 16, 15, 16], \"dtype\": \"int64\", \"shape\": [17]}], [{\"__ndarray__\": -6.0, \"dtype\": \"float64\", \"shape\": []}, {\"__ndarray__\": [1, 1, 5, 7, 4, 5, 6, 7], \"dtype\": \"int64\", \"shape\": [8]}], [{\"__ndarray__\": -756.0000000000002, \"dtype\": \"float64\", \"shape\": []}, {\"__ndarray__\": [0, 1, 5, 3, 4, 7, 14, 12, 9, 10, 10, 14, 12, 15, 15, 15], \"dtype\": \"int64\", \"shape\": [16]}], [{\"__ndarray__\": 379.0000000000001, \"dtype\": \"float64\", \"shape\": []}, {\"__ndarray__\": [1, 1, 3, 4, 7, 7, 6, 7, 14, 12, 10, 14, 13, 13, 15, 15], \"dtype\": \"int64\", \"shape\": [16]}], [{\"__ndarray__\": -6.000000000000001, \"dtype\": \"float64\", \"shape\": []}, {\"__ndarray__\": [0, 1, 2, 4, 4, 10, 8, 7, 8, 9, 10, 11], \"dtype\": \"int64\", \"shape\": [12]}], [{\"__ndarray__\": -5.0, \"dtype\": \"float64\", \"shape\": []}, {\"__ndarray__\": [2, 6, 2, 3, 9, 6, 6, 9, 10, 9, 10, 12, 12], \"dtype\": \"int64\", \"shape\": [13]}], [{\"__ndarray__\": 25.0, \"dtype\": \"float64\", \"shape\": []}, {\"__ndarray__\": [0, 1, 3, 11, 10, 9, 12, 9, 12, 12, 11, 11, 12], \"dtype\": \"int64\", \"shape\": [13]}], [{\"__ndarray__\": -0.0, \"dtype\": \"float64\", \"shape\": []}, {\"__ndarray__\": [2, 1, 3, 3], \"dtype\": \"int64\", \"shape\": [4]}], [{\"__ndarray__\": 18.0, \"dtype\": \"float64\", \"shape\": []}, {\"__ndarray__\": [1, 1, 3, 4, 5, 5, 7, 7, 8, 10, 11, 11, 12], \"dtype\": \"int64\", \"shape\": [13]}], [{\"__ndarray__\": -20.999999999999996, \"dtype\": \"float64\", \"shape\": []}, {\"__ndarray__\": [0, 1, 4, 5, 4, 5, 6, 8, 9, 9, 10], \"dtype\": \"int64\", \"shape\": [11]}], [{\"__ndarray__\": -8.00000000000001, \"dtype\": \"float64\", \"shape\": []}, {\"__ndarray__\": [0, 3, 2, 4, 10, 5, 8, 7, 12, 12, 10, 12, 12], \"dtype\": \"int64\", \"shape\": [13]}], [{\"__ndarray__\": -1.0, \"dtype\": \"float64\", \"shape\": []}, {\"__ndarray__\": [0, 1, 2, 3, 4, 5, 6], \"dtype\": \"int64\", \"shape\": [7]}], [{\"__ndarray__\": 148.0000000000001, \"dtype\": \"float64\", \"shape\": []}, {\"__ndarray__\": [1, 2, 3, 3, 8, 6, 8, 10, 11, 13, 16, 15, 13, 13, 14, 16, 16], \"dtype\": \"int64\", \"shape\": [17]}], [{\"__ndarray__\": 1.0, \"dtype\": \"float64\", \"shape\": []}, {\"__ndarray__\": [0, 1, 5, 3, 4, 5], \"dtype\": \"int64\", \"shape\": [6]}], [{\"__ndarray__\": 72.99999999999996, \"dtype\": \"float64\", \"shape\": []}, {\"__ndarray__\": [1, 4, 2, 3, 5, 9, 15, 9, 9, 10, 14, 15, 14, 14, 15, 15], \"dtype\": \"int64\", \"shape\": [16]}], [{\"__ndarray__\": 27.999999999999996, \"dtype\": \"float64\", \"shape\": []}, {\"__ndarray__\": [0, 1, 5, 4, 7, 5, 9, 7, 9, 10, 10], \"dtype\": \"int64\", \"shape\": [11]}], [{\"__ndarray__\": -1.0, \"dtype\": \"float64\", \"shape\": []}, {\"__ndarray__\": [0, 1, 3, 3, 5, 5], \"dtype\": \"int64\", \"shape\": [6]}], [{\"__ndarray__\": 0.9999999999999996, \"dtype\": \"float64\", \"shape\": []}, {\"__ndarray__\": [1, 1, 3, 3, 9, 9, 6, 9, 8, 9], \"dtype\": \"int64\", \"shape\": [10]}], [{\"__ndarray__\": -1.0, \"dtype\": \"float64\", \"shape\": []}, {\"__ndarray__\": [0], \"dtype\": \"int64\", \"shape\": [1]}], [{\"__ndarray__\": 148.99999999999994, \"dtype\": \"float64\", \"shape\": []}, {\"__ndarray__\": [0, 1, 8, 3, 11, 14, 6, 11, 12, 14, 14, 14, 13, 13, 14, 15], \"dtype\": \"int64\", \"shape\": [16]}], [{\"__ndarray__\": -1.0, \"dtype\": \"float64\", \"shape\": []}, {\"__ndarray__\": [0, 1, 2, 5, 4, 5], \"dtype\": \"int64\", \"shape\": [6]}], [{\"__ndarray__\": -5.0, \"dtype\": \"float64\", \"shape\": []}, {\"__ndarray__\": [0, 4, 2, 10, 10, 8, 9, 8, 12, 11, 12, 12, 12], \"dtype\": \"int64\", \"shape\": [13]}], [{\"__ndarray__\": 358.99999999999983, \"dtype\": \"float64\", \"shape\": []}, {\"__ndarray__\": [0, 1, 7, 5, 8, 8, 6, 13, 17, 9, 11, 11, 13, 17, 16, 17, 17, 17], \"dtype\": \"int64\", \"shape\": [18]}], [{\"__ndarray__\": -2.0, \"dtype\": \"float64\", \"shape\": []}, {\"__ndarray__\": [3, 1, 2, 3, 8, 8, 9, 9, 8, 9], \"dtype\": \"int64\", \"shape\": [10]}], [{\"__ndarray__\": 0.0, \"dtype\": \"float64\", \"shape\": []}, {\"__ndarray__\": [1, 4, 2, 3, 4, 5, 6, 7, 8, 9, 10], \"dtype\": \"int64\", \"shape\": [11]}], [{\"__ndarray__\": -2.999999999999998, \"dtype\": \"float64\", \"shape\": []}, {\"__ndarray__\": [0, 1, 4, 3, 10, 8, 9, 12, 9, 12, 11, 12, 12], \"dtype\": \"int64\", \"shape\": [13]}], [{\"__ndarray__\": -2.0, \"dtype\": \"float64\", \"shape\": []}, {\"__ndarray__\": [1, 1, 2, 5, 4, 6, 6, 7], \"dtype\": \"int64\", \"shape\": [8]}], [{\"__ndarray__\": 6.869504964868159e-15, \"dtype\": \"float64\", \"shape\": []}, {\"__ndarray__\": [4, 4, 2, 8, 9, 7, 12, 13, 8, 10, 11, 11, 12, 13], \"dtype\": \"int64\", \"shape\": [14]}], [{\"__ndarray__\": -1.0, \"dtype\": \"float64\", \"shape\": []}, {\"__ndarray__\": [0, 1, 2, 3, 4], \"dtype\": \"int64\", \"shape\": [5]}], [{\"__ndarray__\": 14.000000000000009, \"dtype\": \"float64\", \"shape\": []}, {\"__ndarray__\": [2, 1, 5, 4, 5, 6, 11, 13, 8, 13, 12, 11, 13, 13], \"dtype\": \"int64\", \"shape\": [14]}], [{\"__ndarray__\": 0.0, \"dtype\": \"float64\", \"shape\": []}, {\"__ndarray__\": [0, 2, 3, 4, 4, 5, 6], \"dtype\": \"int64\", \"shape\": [7]}], [{\"__ndarray__\": -2.0, \"dtype\": \"float64\", \"shape\": []}, {\"__ndarray__\": [2, 2, 4, 3, 5, 6, 6], \"dtype\": \"int64\", \"shape\": [7]}], [{\"__ndarray__\": -0.0, \"dtype\": \"float64\", \"shape\": []}, {\"__ndarray__\": [0, 1], \"dtype\": \"int64\", \"shape\": [2]}], [{\"__ndarray__\": 0.0, \"dtype\": \"float64\", \"shape\": []}, {\"__ndarray__\": [0], \"dtype\": \"int64\", \"shape\": [1]}], [{\"__ndarray__\": 13.0, \"dtype\": \"float64\", \"shape\": []}, {\"__ndarray__\": [0, 4, 5, 4, 5, 8, 8, 7, 12, 12, 10, 12, 12], \"dtype\": \"int64\", \"shape\": [13]}], [{\"__ndarray__\": -7793.999999999999, \"dtype\": \"float64\", \"shape\": []}, {\"__ndarray__\": [0, 2, 2, 12, 7, 6, 8, 10, 11, 14, 18, 14, 12, 13, 15, 18, 17, 17, 18], \"dtype\": \"int64\", \"shape\": [19]}], [{\"__ndarray__\": -1.0, \"dtype\": \"float64\", \"shape\": []}, {\"__ndarray__\": [0, 1, 2, 3, 4, 10, 9, 7, 8, 9, 10], \"dtype\": \"int64\", \"shape\": [11]}], [{\"__ndarray__\": -1.0, \"dtype\": \"float64\", \"shape\": []}, {\"__ndarray__\": [0], \"dtype\": \"int64\", \"shape\": [1]}], [{\"__ndarray__\": 0.0, \"dtype\": \"float64\", \"shape\": []}, {\"__ndarray__\": [0, 2, 2], \"dtype\": \"int64\", \"shape\": [3]}], [{\"__ndarray__\": -19.999999999999993, \"dtype\": \"float64\", \"shape\": []}, {\"__ndarray__\": [1, 1, 2, 4, 5, 5, 8, 9, 11, 9, 11, 11], \"dtype\": \"int64\", \"shape\": [12]}], [{\"__ndarray__\": 0.0, \"dtype\": \"float64\", \"shape\": []}, {\"__ndarray__\": [2, 3, 3, 4, 7, 7, 6, 7], \"dtype\": \"int64\", \"shape\": [8]}], [{\"__ndarray__\": 0.0, \"dtype\": \"float64\", \"shape\": []}, {\"__ndarray__\": [5, 3, 4, 3, 4, 6, 7, 7], \"dtype\": \"int64\", \"shape\": [8]}], [{\"__ndarray__\": 1.0, \"dtype\": \"float64\", \"shape\": []}, {\"__ndarray__\": [1, 1, 2], \"dtype\": \"int64\", \"shape\": [3]}], [{\"__ndarray__\": -8.000000000000014, \"dtype\": \"float64\", \"shape\": []}, {\"__ndarray__\": [0, 2, 6, 5, 4, 9, 11, 9, 8, 9, 10, 11], \"dtype\": \"int64\", \"shape\": [12]}], [{\"__ndarray__\": -4.0, \"dtype\": \"float64\", \"shape\": []}, {\"__ndarray__\": [0, 2, 3, 4, 7, 5, 6, 7, 8, 9, 10], \"dtype\": \"int64\", \"shape\": [11]}], [{\"__ndarray__\": -0.0, \"dtype\": \"float64\", \"shape\": []}, {\"__ndarray__\": [1, 3, 2, 3, 4, 7, 7, 7, 8], \"dtype\": \"int64\", \"shape\": [9]}], [{\"__ndarray__\": -1.0, \"dtype\": \"float64\", \"shape\": []}, {\"__ndarray__\": [0], \"dtype\": \"int64\", \"shape\": [1]}], [{\"__ndarray__\": -0.0, \"dtype\": \"float64\", \"shape\": []}, {\"__ndarray__\": [0, 1, 3, 3], \"dtype\": \"int64\", \"shape\": [4]}], [{\"__ndarray__\": -2.0000000000000084, \"dtype\": \"float64\", \"shape\": []}, {\"__ndarray__\": [0, 1, 2, 3, 4, 5, 8, 9, 13, 13, 10, 13, 13, 13], \"dtype\": \"int64\", \"shape\": [14]}], [{\"__ndarray__\": -0.0, \"dtype\": \"float64\", \"shape\": []}, {\"__ndarray__\": [0, 1, 2, 5, 4, 8, 9, 7, 8, 9], \"dtype\": \"int64\", \"shape\": [10]}], [{\"__ndarray__\": -17.000000000000004, \"dtype\": \"float64\", \"shape\": []}, {\"__ndarray__\": [0, 3, 3, 9, 4, 11, 6, 14, 13, 12, 13, 12, 13, 14, 14], \"dtype\": \"int64\", \"shape\": [15]}], [{\"__ndarray__\": -510.00000000000017, \"dtype\": \"float64\", \"shape\": []}, {\"__ndarray__\": [0, 1, 2, 5, 4, 7, 14, 12, 14, 13, 11, 14, 13, 14, 14], \"dtype\": \"int64\", \"shape\": [15]}], [{\"__ndarray__\": -1.0, \"dtype\": \"float64\", \"shape\": []}, {\"__ndarray__\": [2, 2, 2, 3], \"dtype\": \"int64\", \"shape\": [4]}], [{\"__ndarray__\": 26.99999999999999, \"dtype\": \"float64\", \"shape\": []}, {\"__ndarray__\": [1, 1, 4, 3, 4, 5, 6, 8, 8, 13, 13, 12, 13, 13], \"dtype\": \"int64\", \"shape\": [14]}], [{\"__ndarray__\": 0.0, \"dtype\": \"float64\", \"shape\": []}, {\"__ndarray__\": [0, 1, 3, 3, 4], \"dtype\": \"int64\", \"shape\": [5]}], [{\"__ndarray__\": 0.0, \"dtype\": \"float64\", \"shape\": []}, {\"__ndarray__\": [0, 1], \"dtype\": \"int64\", \"shape\": [2]}], [{\"__ndarray__\": -96.00000000000006, \"dtype\": \"float64\", \"shape\": []}, {\"__ndarray__\": [2, 2, 7, 3, 8, 13, 9, 10, 14, 14, 11, 11, 13, 13, 14], \"dtype\": \"int64\", \"shape\": [15]}], [{\"__ndarray__\": 108.00000000000013, \"dtype\": \"float64\", \"shape\": []}, {\"__ndarray__\": [0, 1, 2, 4, 4, 5, 7, 13, 10, 14, 10, 14, 16, 13, 14, 15, 16], \"dtype\": \"int64\", \"shape\": [17]}], [{\"__ndarray__\": -0.0, \"dtype\": \"float64\", \"shape\": []}, {\"__ndarray__\": [0, 2, 3, 3, 4], \"dtype\": \"int64\", \"shape\": [5]}], [{\"__ndarray__\": -0.0, \"dtype\": \"float64\", \"shape\": []}, {\"__ndarray__\": [0, 2, 2], \"dtype\": \"int64\", \"shape\": [3]}], [{\"__ndarray__\": 79.9999999999999, \"dtype\": \"float64\", \"shape\": []}, {\"__ndarray__\": [4, 2, 10, 5, 4, 8, 9, 9, 12, 10, 10, 14, 12, 14, 14], \"dtype\": \"int64\", \"shape\": [15]}], [{\"__ndarray__\": 9.0, \"dtype\": \"float64\", \"shape\": []}, {\"__ndarray__\": [2, 3, 2, 6, 4, 9, 7, 9, 9, 9], \"dtype\": \"int64\", \"shape\": [10]}], [{\"__ndarray__\": 888.9999999999983, \"dtype\": \"float64\", \"shape\": []}, {\"__ndarray__\": [4, 3, 10, 9, 7, 13, 7, 8, 16, 14, 14, 16, 13, 17, 17, 17, 17, 17], \"dtype\": \"int64\", \"shape\": [18]}], [{\"__ndarray__\": 184.00000000000003, \"dtype\": \"float64\", \"shape\": []}, {\"__ndarray__\": [2, 1, 2, 6, 4, 14, 13, 8, 15, 15, 10, 15, 15, 15, 14, 15], \"dtype\": \"int64\", \"shape\": [16]}], [{\"__ndarray__\": 2559.9999999999995, \"dtype\": \"float64\", \"shape\": []}, {\"__ndarray__\": [0, 2, 2, 3, 4, 11, 6, 11, 10, 9, 11, 14, 12, 17, 15, 16, 17, 17], \"dtype\": \"int64\", \"shape\": [18]}], [{\"__ndarray__\": 1.0, \"dtype\": \"float64\", \"shape\": []}, {\"__ndarray__\": [0, 2, 3, 6, 6, 7, 7, 7], \"dtype\": \"int64\", \"shape\": [8]}], [{\"__ndarray__\": 352.9999999999992, \"dtype\": \"float64\", \"shape\": []}, {\"__ndarray__\": [2, 2, 4, 16, 12, 13, 8, 13, 16, 17, 15, 15, 15, 15, 15, 15, 17, 17], \"dtype\": \"int64\", \"shape\": [18]}], [{\"__ndarray__\": -37.00000000000002, \"dtype\": \"float64\", \"shape\": []}, {\"__ndarray__\": [1, 1, 2, 10, 4, 5, 8, 7, 11, 13, 15, 16, 15, 14, 14, 16, 17, 17, 18], \"dtype\": \"int64\", \"shape\": [19]}], [{\"__ndarray__\": 48.0, \"dtype\": \"float64\", \"shape\": []}, {\"__ndarray__\": [1, 1, 4, 8, 6, 7, 7, 8, 10, 10, 12, 12, 12], \"dtype\": \"int64\", \"shape\": [13]}], [{\"__ndarray__\": 6.999999999999999, \"dtype\": \"float64\", \"shape\": []}, {\"__ndarray__\": [0, 1, 2, 5, 4, 7, 8, 11, 11, 11, 11, 11], \"dtype\": \"int64\", \"shape\": [12]}], [{\"__ndarray__\": 0.0, \"dtype\": \"float64\", \"shape\": []}, {\"__ndarray__\": [1, 2, 2, 5, 4, 5, 6, 7, 8], \"dtype\": \"int64\", \"shape\": [9]}], [{\"__ndarray__\": -1.0, \"dtype\": \"float64\", \"shape\": []}, {\"__ndarray__\": [2, 1, 3, 3, 4, 5], \"dtype\": \"int64\", \"shape\": [6]}], [{\"__ndarray__\": -2.9999999999999996, \"dtype\": \"float64\", \"shape\": []}, {\"__ndarray__\": [2, 1, 3, 6, 5, 6, 10, 7, 10, 10, 10, 12, 12], \"dtype\": \"int64\", \"shape\": [13]}], [{\"__ndarray__\": -1.0, \"dtype\": \"float64\", \"shape\": []}, {\"__ndarray__\": [0, 1, 4, 3, 4], \"dtype\": \"int64\", \"shape\": [5]}], [{\"__ndarray__\": -1199.9999999999993, \"dtype\": \"float64\", \"shape\": []}, {\"__ndarray__\": [0, 1, 2, 4, 6, 10, 6, 11, 10, 11, 12, 11, 12, 13, 14, 15], \"dtype\": \"int64\", \"shape\": [16]}], [{\"__ndarray__\": 8.881784197001252e-16, \"dtype\": \"float64\", \"shape\": []}, {\"__ndarray__\": [0, 2, 4, 3, 4, 7, 8, 8, 8, 12, 12, 11, 12], \"dtype\": \"int64\", \"shape\": [13]}], [{\"__ndarray__\": -4.0, \"dtype\": \"float64\", \"shape\": []}, {\"__ndarray__\": [5, 3, 9, 3, 5, 5, 7, 10, 8, 9, 10], \"dtype\": \"int64\", \"shape\": [11]}], [{\"__ndarray__\": -0.0, \"dtype\": \"float64\", \"shape\": []}, {\"__ndarray__\": [2, 2, 4, 4, 7, 6, 8, 7, 9, 9], \"dtype\": \"int64\", \"shape\": [10]}], [{\"__ndarray__\": -0.0, \"dtype\": \"float64\", \"shape\": []}, {\"__ndarray__\": [3, 2, 2, 5, 4, 6, 7, 7, 8], \"dtype\": \"int64\", \"shape\": [9]}], [{\"__ndarray__\": -0.0, \"dtype\": \"float64\", \"shape\": []}, {\"__ndarray__\": [0, 1], \"dtype\": \"int64\", \"shape\": [2]}], [{\"__ndarray__\": -0.0, \"dtype\": \"float64\", \"shape\": []}, {\"__ndarray__\": [2, 1, 2, 3], \"dtype\": \"int64\", \"shape\": [4]}], [{\"__ndarray__\": 0.0, \"dtype\": \"float64\", \"shape\": []}, {\"__ndarray__\": [0, 1, 5, 3, 5, 5], \"dtype\": \"int64\", \"shape\": [6]}], [{\"__ndarray__\": -2.9999999999999973, \"dtype\": \"float64\", \"shape\": []}, {\"__ndarray__\": [0, 1, 4, 5, 7, 7, 6, 7, 10, 13, 13, 11, 12, 13], \"dtype\": \"int64\", \"shape\": [14]}], [{\"__ndarray__\": -62.00000000000004, \"dtype\": \"float64\", \"shape\": []}, {\"__ndarray__\": [1, 5, 5, 4, 6, 8, 8, 9, 13, 12, 14, 11, 13, 14, 14], \"dtype\": \"int64\", \"shape\": [15]}], [{\"__ndarray__\": -1.0, \"dtype\": \"float64\", \"shape\": []}, {\"__ndarray__\": [5, 1, 2, 3, 5, 8, 9, 9, 8, 9], \"dtype\": \"int64\", \"shape\": [10]}], [{\"__ndarray__\": -0.0, \"dtype\": \"float64\", \"shape\": []}, {\"__ndarray__\": [0, 1, 2, 3], \"dtype\": \"int64\", \"shape\": [4]}], [{\"__ndarray__\": -1.0, \"dtype\": \"float64\", \"shape\": []}, {\"__ndarray__\": [0, 2, 3, 3, 4, 6, 7, 7], \"dtype\": \"int64\", \"shape\": [8]}], [{\"__ndarray__\": -0.0, \"dtype\": \"float64\", \"shape\": []}, {\"__ndarray__\": [0, 4, 7, 3, 4, 5, 8, 7, 8], \"dtype\": \"int64\", \"shape\": [9]}], [{\"__ndarray__\": 2.0, \"dtype\": \"float64\", \"shape\": []}, {\"__ndarray__\": [2, 1, 2, 3, 4, 5, 7, 7, 8], \"dtype\": \"int64\", \"shape\": [9]}], [{\"__ndarray__\": -4.0, \"dtype\": \"float64\", \"shape\": []}, {\"__ndarray__\": [3, 3, 2, 3, 5, 5, 6, 7], \"dtype\": \"int64\", \"shape\": [8]}], [{\"__ndarray__\": -6.000000000000001, \"dtype\": \"float64\", \"shape\": []}, {\"__ndarray__\": [2, 3, 2, 4, 10, 7, 10, 9, 9, 9, 10], \"dtype\": \"int64\", \"shape\": [11]}], [{\"__ndarray__\": -1.0, \"dtype\": \"float64\", \"shape\": []}, {\"__ndarray__\": [2, 3, 2, 4, 5, 5], \"dtype\": \"int64\", \"shape\": [6]}], [{\"__ndarray__\": -0.0, \"dtype\": \"float64\", \"shape\": []}, {\"__ndarray__\": [0, 1, 4, 5, 5, 5, 6], \"dtype\": \"int64\", \"shape\": [7]}]]}'"
                        ]
                    },
                    "execution_count": 12,
                    "metadata": {},
                    "output_type": "execute_result"
                }
            ],
            "source": [
                "inputs = json_tricks.load('inputs/inputs.json')\n",
                "\n",
                "results = {'results': []}\n",
                "for args in inputs['inputs']:\n",
                "    res = determinant_fast(**args)\n",
                "    results['results'].append(res)\n",
                "\n",
                "json_tricks.dump(results, '.answer.json')\n"
            ]
        }
    ],
    "metadata": {
        "kernelspec": {
            "display_name": "Python (Container)",
            "language": "python",
            "name": "container_env"
        },
        "language_info": {
            "codemirror_mode": {
                "name": "ipython",
                "version": 3
            },
            "file_extension": ".py",
            "mimetype": "text/x-python",
            "name": "python",
            "nbconvert_exporter": "python",
            "pygments_lexer": "ipython3",
            "version": "3.11.13"
        }
    },
    "nbformat": 4,
    "nbformat_minor": 2
}
