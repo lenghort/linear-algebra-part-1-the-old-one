{
    "cells": [
        {
            "cell_type": "markdown",
            "metadata": {},
            "source": [
                "# Recurrent Formula and Cofactors\n",
                "\n",
                "Find cofactor matrix first column and determinant for the matrices:\n",
                "\n",
                "1. $\n",
                "\\begin{bmatrix}\n",
                "1 & 2 & 2 & 2 \\\\\n",
                "1 & 1 & 2 & 2 \\\\\n",
                "1 & 1 & 1 & 2 \\\\\n",
                "1 & 1 & 1 & 1\n",
                "\\end{bmatrix}\n",
                "$\n",
                "\n",
                "2. $\n",
                "\\begin{bmatrix}\n",
                "1 & 2 & 3 & 4 \\\\\n",
                "1 & 1 & 2 & 3 \\\\\n",
                "1 & 1 & 1 & 2 \\\\\n",
                "1 & 1 & 1 & 1\n",
                "\\end{bmatrix}\n",
                "$\n",
                "\n"
            ]
        },
        {
            "cell_type": "code",
            "execution_count": 34,
            "metadata": {},
            "outputs": [],
            "source": [
                "import numpy as np\n",
                "import json_tricks"
            ]
        },
        {
            "cell_type": "code",
            "execution_count": 35,
            "metadata": {},
            "outputs": [],
            "source": [
                "answer = {\n",
                "    'task1': {\n",
                "        'C1': np.array([\n",
                "            [1],\n",
                "            [0],\n",
                "            [0],\n",
                "            [-2]\n",
                "        ], dtype=np.int64),\n",
                "        'det': -1\n",
                "    },\n",
                "    'task2': {\n",
                "        'C1': np.array([\n",
                "            [1, -1, 0, -1]\n",
                "        ], dtype=np.int64),\n",
                "        'det': -1\n",
                "    }\n",
                "}"
            ]
        },
        {
            "cell_type": "code",
            "execution_count": 36,
            "metadata": {},
            "outputs": [
                {
                    "data": {
                        "text/plain": [
                            "'{\"task1\": {\"C1\": {\"__ndarray__\": [[1], [0], [0], [-2]], \"dtype\": \"int64\", \"shape\": [4, 1], \"Corder\": true}, \"det\": -1}, \"task2\": {\"C1\": {\"__ndarray__\": [[1, -1, 0, -1]], \"dtype\": \"int64\", \"shape\": [1, 4], \"Corder\": true}, \"det\": -1}}'"
                        ]
                    },
                    "execution_count": 36,
                    "metadata": {},
                    "output_type": "execute_result"
                }
            ],
            "source": [
                "json_tricks.dump(answer, '.answer.json')"
            ]
        }
    ],
    "metadata": {
        "kernelspec": {
            "display_name": "Python (Container)",
            "language": "python",
            "name": "container_env"
        },
        "language_info": {
            "codemirror_mode": {
                "name": "ipython",
                "version": 3
            },
            "file_extension": ".py",
            "mimetype": "text/x-python",
            "name": "python",
            "nbconvert_exporter": "python",
            "pygments_lexer": "ipython3",
            "version": "3.11.13"
        }
    },
    "nbformat": 4,
    "nbformat_minor": 2
}
